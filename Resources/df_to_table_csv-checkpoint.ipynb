{
 "cells": [
  {
   "cell_type": "code",
   "execution_count": 1,
   "metadata": {
    "collapsed": true
   },
   "outputs": [],
   "source": [
    "# Dependencies\n",
    "import pandas as pd"
   ]
  },
  {
   "cell_type": "code",
   "execution_count": 2,
   "metadata": {
    "collapsed": true
   },
   "outputs": [],
   "source": [
    "# Path of the CSV file\n",
    "csvfile = \"customers.csv\""
   ]
  },
  {
   "cell_type": "code",
   "execution_count": 3,
   "metadata": {
    "collapsed": true
   },
   "outputs": [],
   "source": [
    "# Read CSV file into a pandas DataFrame\n",
    "df = pd.read_csv(csvfile)"
   ]
  },
  {
   "cell_type": "code",
   "execution_count": 4,
   "metadata": {},
   "outputs": [
    {
     "data": {
      "text/html": [
       "<div>\n",
       "<style>\n",
       "    .dataframe thead tr:only-child th {\n",
       "        text-align: right;\n",
       "    }\n",
       "\n",
       "    .dataframe thead th {\n",
       "        text-align: left;\n",
       "    }\n",
       "\n",
       "    .dataframe tbody tr th {\n",
       "        vertical-align: top;\n",
       "    }\n",
       "</style>\n",
       "<table border=\"1\" class=\"dataframe\">\n",
       "  <thead>\n",
       "    <tr style=\"text-align: right;\">\n",
       "      <th></th>\n",
       "      <th>first_name</th>\n",
       "      <th>gender</th>\n",
       "      <th>id</th>\n",
       "      <th>last_name</th>\n",
       "    </tr>\n",
       "  </thead>\n",
       "  <tbody>\n",
       "    <tr>\n",
       "      <th>0</th>\n",
       "      <td>David</td>\n",
       "      <td>Male</td>\n",
       "      <td>1</td>\n",
       "      <td>Jordan</td>\n",
       "    </tr>\n",
       "    <tr>\n",
       "      <th>1</th>\n",
       "      <td>Stephen</td>\n",
       "      <td>Male</td>\n",
       "      <td>2</td>\n",
       "      <td>Riley</td>\n",
       "    </tr>\n",
       "    <tr>\n",
       "      <th>2</th>\n",
       "      <td>Evelyn</td>\n",
       "      <td>Female</td>\n",
       "      <td>3</td>\n",
       "      <td>Grant</td>\n",
       "    </tr>\n",
       "    <tr>\n",
       "      <th>3</th>\n",
       "      <td>Joe</td>\n",
       "      <td>Male</td>\n",
       "      <td>4</td>\n",
       "      <td>Mendoza</td>\n",
       "    </tr>\n",
       "    <tr>\n",
       "      <th>4</th>\n",
       "      <td>Benjamin</td>\n",
       "      <td>Male</td>\n",
       "      <td>5</td>\n",
       "      <td>Rodriguez</td>\n",
       "    </tr>\n",
       "  </tbody>\n",
       "</table>\n",
       "</div>"
      ],
      "text/plain": [
       "  first_name  gender  id  last_name\n",
       "0      David    Male   1     Jordan\n",
       "1    Stephen    Male   2      Riley\n",
       "2     Evelyn  Female   3      Grant\n",
       "3        Joe    Male   4    Mendoza\n",
       "4   Benjamin    Male   5  Rodriguez"
      ]
     },
     "execution_count": 4,
     "metadata": {},
     "output_type": "execute_result"
    }
   ],
   "source": [
    "# Preview DataFrame\n",
    "# Note that some rows are missing gender\n",
    "df.head()"
   ]
  },
  {
   "cell_type": "code",
   "execution_count": 5,
   "metadata": {
    "collapsed": true
   },
   "outputs": [],
   "source": [
    "# Save the cleaned data to a file called `customers2.csv`\n",
    "new_csv = \"customers2.csv\"\n",
    "df.to_csv(new_csv, index=False)"
   ]
  },
  {
   "cell_type": "code",
   "execution_count": 6,
   "metadata": {
    "collapsed": true
   },
   "outputs": [],
   "source": [
    "# Python SQL toolkit and Object Relational Mapper\n",
    "import sqlalchemy\n",
    "from sqlalchemy import create_engine, MetaData\n",
    "from sqlalchemy.ext.declarative import declarative_base\n",
    "\n",
    "from sqlalchemy import Column, Integer, String, Numeric, Text, Float"
   ]
  },
  {
   "cell_type": "code",
   "execution_count": 7,
   "metadata": {
    "collapsed": true
   },
   "outputs": [],
   "source": [
    "# Create an engine to a SQLite database file called `customers.sqlite`\n",
    "engine = create_engine(\"sqlite:///customers.sqlite\")"
   ]
  },
  {
   "cell_type": "code",
   "execution_count": 8,
   "metadata": {
    "collapsed": true
   },
   "outputs": [],
   "source": [
    "# Create a connection to the engine called `conn`\n",
    "conn = engine.connect()"
   ]
  },
  {
   "cell_type": "code",
   "execution_count": 9,
   "metadata": {
    "collapsed": true
   },
   "outputs": [],
   "source": [
    "# Use `declarative_base` from SQLAlchemy to model the demographics table as an ORM class\n",
    "# Make sure to specify types for each column, e.g. Integer, Text, etc.\n",
    "# http://docs.sqlalchemy.org/en/latest/core/type_basics.html\n",
    "Base = declarative_base()\n",
    "\n",
    "class Customer(Base):\n",
    "    __tablename__ = 'customers'\n",
    "\n",
    "    id = Column(Integer, primary_key=True)\n",
    "    first_name = Column(Text)\n",
    "    last_name = Column(Text)\n",
    "    gender = Column(Text)    "
   ]
  },
  {
   "cell_type": "code",
   "execution_count": 10,
   "metadata": {
    "collapsed": true
   },
   "outputs": [],
   "source": [
    "# Use `create_all` to create the customers table in the database\n",
    "Base.metadata.create_all(engine)"
   ]
  },
  {
   "cell_type": "code",
   "execution_count": 11,
   "metadata": {
    "collapsed": true
   },
   "outputs": [],
   "source": [
    "# Load the cleaned csv file into a pandas dataframe\n",
    "new_df = pd.read_csv(new_csv)"
   ]
  },
  {
   "cell_type": "code",
   "execution_count": 12,
   "metadata": {
    "collapsed": true
   },
   "outputs": [],
   "source": [
    "# Use Orient='records' to create a list of data to write\n",
    "# to_dict() cleans out DataFrame metadata as well\n",
    "# http://pandas-docs.github.io/pandas-docs-travis/io.html#orient-options\n",
    "data = new_df.to_dict(orient='records')"
   ]
  },
  {
   "cell_type": "code",
   "execution_count": 13,
   "metadata": {},
   "outputs": [
    {
     "name": "stdout",
     "output_type": "stream",
     "text": [
      "[{'first_name': 'David', 'gender': 'Male', 'id': 1, 'last_name': 'Jordan'}, {'first_name': 'Stephen', 'gender': 'Male', 'id': 2, 'last_name': 'Riley'}, {'first_name': 'Evelyn', 'gender': 'Female', 'id': 3, 'last_name': 'Grant'}, {'first_name': 'Joe', 'gender': 'Male', 'id': 4, 'last_name': 'Mendoza'}, {'first_name': 'Benjamin', 'gender': 'Male', 'id': 5, 'last_name': 'Rodriguez'}, {'first_name': 'Kathleen', 'gender': 'Female', 'id': 6, 'last_name': 'Crawford'}, {'first_name': 'Daniel', 'gender': 'Male', 'id': 7, 'last_name': 'Marshall'}, {'first_name': 'Diana', 'gender': 'Female', 'id': 8, 'last_name': 'Coleman'}, {'first_name': 'Frances', 'gender': 'Female', 'id': 9, 'last_name': 'Black'}, {'first_name': 'Tammy', 'gender': 'Female', 'id': 10, 'last_name': 'Arnold'}, {'first_name': 'Jeffrey', 'gender': 'Male', 'id': 11, 'last_name': 'Matthews'}, {'first_name': 'Roy', 'gender': 'Male', 'id': 12, 'last_name': 'Harrison'}, {'first_name': 'Ernest', 'gender': 'Male', 'id': 13, 'last_name': 'Bishop'}, {'first_name': 'Brian', 'gender': 'Male', 'id': 14, 'last_name': 'Griffin'}, {'first_name': 'Alice', 'gender': 'Female', 'id': 15, 'last_name': 'Howell'}, {'first_name': 'Emily', 'gender': 'Female', 'id': 16, 'last_name': 'Garza'}, {'first_name': 'Sarah', 'gender': 'Female', 'id': 17, 'last_name': 'Perez'}, {'first_name': 'Earl', 'gender': 'Male', 'id': 18, 'last_name': 'Harvey'}, {'first_name': 'Larry', 'gender': 'Male', 'id': 19, 'last_name': 'Watkins'}, {'first_name': 'Timothy', 'gender': 'Male', 'id': 20, 'last_name': 'Edwards'}, {'first_name': 'Theresa', 'gender': 'Female', 'id': 21, 'last_name': 'Phillips'}, {'first_name': 'Timothy', 'gender': 'Male', 'id': 22, 'last_name': 'Lawrence'}, {'first_name': 'Gregory', 'gender': 'Male', 'id': 23, 'last_name': 'Daniels'}, {'first_name': 'Laura', 'gender': 'Female', 'id': 24, 'last_name': 'Ross'}, {'first_name': 'Martin', 'gender': 'Male', 'id': 25, 'last_name': 'Burton'}, {'first_name': 'Antonio', 'gender': 'Male', 'id': 26, 'last_name': 'Chapman'}, {'first_name': 'Tina', 'gender': 'Female', 'id': 27, 'last_name': 'Lawson'}, {'first_name': 'Heather', 'gender': 'Female', 'id': 28, 'last_name': 'Wallace'}, {'first_name': 'Mary', 'gender': 'Female', 'id': 29, 'last_name': 'Stone'}, {'first_name': 'Angela', 'gender': 'Female', 'id': 30, 'last_name': 'Flores'}, {'first_name': 'Andrew', 'gender': 'Male', 'id': 31, 'last_name': 'Hudson'}, {'first_name': 'Lillian', 'gender': 'Female', 'id': 32, 'last_name': 'Boyd'}, {'first_name': 'Julia', 'gender': 'Female', 'id': 33, 'last_name': 'Hawkins'}, {'first_name': 'Alice', 'gender': 'Female', 'id': 34, 'last_name': 'Sullivan'}, {'first_name': 'Adam', 'gender': 'Male', 'id': 35, 'last_name': 'Tucker'}, {'first_name': 'Rebecca', 'gender': 'Female', 'id': 36, 'last_name': 'Fernandez'}, {'first_name': 'Frank', 'gender': 'Male', 'id': 37, 'last_name': 'Bailey'}, {'first_name': 'Julia', 'gender': 'Female', 'id': 38, 'last_name': 'Stephens'}, {'first_name': 'Ann', 'gender': 'Female', 'id': 39, 'last_name': 'Carroll'}, {'first_name': 'Kenneth', 'gender': 'Male', 'id': 40, 'last_name': 'Duncan'}, {'first_name': 'Roy', 'gender': 'Male', 'id': 41, 'last_name': 'Flores'}, {'first_name': 'Gary', 'gender': 'Male', 'id': 42, 'last_name': 'Dixon'}, {'first_name': 'Lois', 'gender': 'Female', 'id': 43, 'last_name': 'Pierce'}, {'first_name': 'Barbara', 'gender': 'Female', 'id': 44, 'last_name': 'Olson'}, {'first_name': 'Brian', 'gender': 'Male', 'id': 45, 'last_name': 'Daniels'}, {'first_name': 'Helen', 'gender': 'Female', 'id': 46, 'last_name': 'Campbell'}, {'first_name': 'Adam', 'gender': 'Male', 'id': 47, 'last_name': 'Banks'}, {'first_name': 'Frank', 'gender': 'Male', 'id': 48, 'last_name': 'Murray'}, {'first_name': 'Christina', 'gender': 'Female', 'id': 49, 'last_name': 'Edwards'}, {'first_name': 'Stephanie', 'gender': 'Female', 'id': 50, 'last_name': 'Gonzalez'}, {'first_name': 'Steven', 'gender': 'Male', 'id': 51, 'last_name': 'Peterson'}, {'first_name': 'Robin', 'gender': 'Female', 'id': 52, 'last_name': 'Sims'}, {'first_name': 'Gerald', 'gender': 'Male', 'id': 53, 'last_name': 'Dean'}, {'first_name': 'Kimberly', 'gender': 'Female', 'id': 54, 'last_name': 'Ellis'}, {'first_name': 'Brandon', 'gender': 'Male', 'id': 55, 'last_name': 'Franklin'}, {'first_name': 'Jane', 'gender': 'Female', 'id': 56, 'last_name': 'Fuller'}, {'first_name': 'Andrew', 'gender': 'Male', 'id': 57, 'last_name': 'Richardson'}, {'first_name': 'Adam', 'gender': 'Male', 'id': 58, 'last_name': 'Robertson'}, {'first_name': 'Stephen', 'gender': 'Male', 'id': 59, 'last_name': 'Hunt'}, {'first_name': 'Amanda', 'gender': 'Female', 'id': 60, 'last_name': 'Carter'}, {'first_name': 'Elizabeth', 'gender': 'Female', 'id': 61, 'last_name': 'Edwards'}, {'first_name': 'Anna', 'gender': 'Female', 'id': 62, 'last_name': 'Moreno'}, {'first_name': 'Rebecca', 'gender': 'Female', 'id': 63, 'last_name': 'Fisher'}, {'first_name': 'Jesse', 'gender': 'Male', 'id': 64, 'last_name': 'Payne'}, {'first_name': 'Tammy', 'gender': 'Female', 'id': 65, 'last_name': 'Spencer'}, {'first_name': 'Dorothy', 'gender': 'Female', 'id': 66, 'last_name': 'Thomas'}, {'first_name': 'Gerald', 'gender': 'Male', 'id': 67, 'last_name': 'Weaver'}, {'first_name': 'Shawn', 'gender': 'Male', 'id': 68, 'last_name': 'Dean'}, {'first_name': 'Rebecca', 'gender': 'Female', 'id': 69, 'last_name': 'George'}, {'first_name': 'Gerald', 'gender': 'Male', 'id': 70, 'last_name': 'Johnson'}, {'first_name': 'Norma', 'gender': 'Female', 'id': 71, 'last_name': 'Cox'}, {'first_name': 'Juan', 'gender': 'Male', 'id': 72, 'last_name': 'Woods'}, {'first_name': 'Terry', 'gender': 'Male', 'id': 73, 'last_name': 'Ramos'}, {'first_name': 'David', 'gender': 'Male', 'id': 74, 'last_name': 'Anderson'}, {'first_name': 'Donald', 'gender': 'Male', 'id': 75, 'last_name': 'Morgan'}, {'first_name': 'Billy', 'gender': 'Male', 'id': 76, 'last_name': 'Bryant'}, {'first_name': 'Willie', 'gender': 'Male', 'id': 77, 'last_name': 'Stone'}, {'first_name': 'Terry', 'gender': 'Male', 'id': 78, 'last_name': 'Porter'}, {'first_name': 'Gloria', 'gender': 'Female', 'id': 79, 'last_name': 'Edwards'}, {'first_name': 'Janice', 'gender': 'Female', 'id': 80, 'last_name': 'Payne'}, {'first_name': 'Aaron', 'gender': 'Male', 'id': 81, 'last_name': 'Black'}, {'first_name': 'Joshua', 'gender': 'Male', 'id': 82, 'last_name': 'Nichols'}, {'first_name': 'Donna', 'gender': 'Female', 'id': 83, 'last_name': 'Ramos'}, {'first_name': 'Johnny', 'gender': 'Male', 'id': 84, 'last_name': 'Romero'}, {'first_name': 'Paula', 'gender': 'Female', 'id': 85, 'last_name': 'Nelson'}, {'first_name': 'Jack', 'gender': 'Male', 'id': 86, 'last_name': 'Hamilton'}, {'first_name': 'Howard', 'gender': 'Male', 'id': 87, 'last_name': 'Hart'}, {'first_name': 'Frank', 'gender': 'Male', 'id': 88, 'last_name': 'Kim'}, {'first_name': 'Mildred', 'gender': 'Female', 'id': 89, 'last_name': 'Jenkins'}, {'first_name': 'Betty', 'gender': 'Female', 'id': 90, 'last_name': 'Dunn'}, {'first_name': 'Anna', 'gender': 'Female', 'id': 91, 'last_name': 'Porter'}, {'first_name': 'Ann', 'gender': 'Female', 'id': 92, 'last_name': 'Spencer'}, {'first_name': 'Nicole', 'gender': 'Female', 'id': 93, 'last_name': 'Cunningham'}, {'first_name': 'Patricia', 'gender': 'Female', 'id': 94, 'last_name': 'Dunn'}, {'first_name': 'Scott', 'gender': 'Male', 'id': 95, 'last_name': 'Garrett'}, {'first_name': 'Adam', 'gender': 'Male', 'id': 96, 'last_name': 'Banks'}, {'first_name': 'Antonio', 'gender': 'Male', 'id': 97, 'last_name': 'Franklin'}, {'first_name': 'Joe', 'gender': 'Male', 'id': 98, 'last_name': 'Allen'}, {'first_name': 'Rebecca', 'gender': 'Female', 'id': 99, 'last_name': 'Russell'}, {'first_name': 'Kathy', 'gender': 'Female', 'id': 100, 'last_name': 'Sanchez'}]\n"
     ]
    }
   ],
   "source": [
    "print(data)"
   ]
  },
  {
   "cell_type": "code",
   "execution_count": 14,
   "metadata": {
    "collapsed": true
   },
   "outputs": [],
   "source": [
    "# Use MetaData from SQLAlchemy to reflect the tables\n",
    "metadata = MetaData(bind=engine)\n",
    "metadata.reflect()"
   ]
  },
  {
   "cell_type": "code",
   "execution_count": 15,
   "metadata": {
    "collapsed": true
   },
   "outputs": [],
   "source": [
    "# Save the reference to the `customers` table as a variable called `table`\n",
    "# Needed to bulk upload data, rather than add through individual objects\n",
    "table = sqlalchemy.Table('customers', metadata, autoload=True)"
   ]
  },
  {
   "cell_type": "code",
   "execution_count": 16,
   "metadata": {},
   "outputs": [
    {
     "data": {
      "text/plain": [
       "<sqlalchemy.engine.result.ResultProxy at 0x20dcce99400>"
      ]
     },
     "execution_count": 16,
     "metadata": {},
     "output_type": "execute_result"
    }
   ],
   "source": [
    "# Use `table.delete()` to remove any pre-existing data.\n",
    "# Note that this is a convenience function so that you can re-run the example code multiple times.\n",
    "# You would not likely do this step in production.\n",
    "conn.execute(table.delete())"
   ]
  },
  {
   "cell_type": "code",
   "execution_count": 17,
   "metadata": {},
   "outputs": [
    {
     "data": {
      "text/plain": [
       "<sqlalchemy.engine.result.ResultProxy at 0x20dce4efcf8>"
      ]
     },
     "execution_count": 17,
     "metadata": {},
     "output_type": "execute_result"
    }
   ],
   "source": [
    "# Use `table.insert()` to insert the data into the table\n",
    "# The SQL table is populated during this step\n",
    "conn.execute(table.insert(), data)"
   ]
  },
  {
   "cell_type": "code",
   "execution_count": 18,
   "metadata": {
    "collapsed": true
   },
   "outputs": [],
   "source": [
    "from sqlalchemy.orm import Session"
   ]
  },
  {
   "cell_type": "code",
   "execution_count": 19,
   "metadata": {
    "collapsed": true
   },
   "outputs": [],
   "source": [
    "session = Session(bind=engine)"
   ]
  },
  {
   "cell_type": "code",
   "execution_count": 20,
   "metadata": {},
   "outputs": [
    {
     "name": "stdout",
     "output_type": "stream",
     "text": [
      "{'_sa_instance_state': <sqlalchemy.orm.state.InstanceState object at 0x0000020DCE527198>, 'gender': 'Male', 'last_name': 'Jordan', 'id': 1, 'first_name': 'David'}\n",
      "{'_sa_instance_state': <sqlalchemy.orm.state.InstanceState object at 0x0000020DCE527208>, 'gender': 'Male', 'last_name': 'Riley', 'id': 2, 'first_name': 'Stephen'}\n",
      "{'_sa_instance_state': <sqlalchemy.orm.state.InstanceState object at 0x0000020DCE527278>, 'gender': 'Female', 'last_name': 'Grant', 'id': 3, 'first_name': 'Evelyn'}\n",
      "{'_sa_instance_state': <sqlalchemy.orm.state.InstanceState object at 0x0000020DCE5272E8>, 'gender': 'Male', 'last_name': 'Mendoza', 'id': 4, 'first_name': 'Joe'}\n",
      "{'_sa_instance_state': <sqlalchemy.orm.state.InstanceState object at 0x0000020DCE527358>, 'gender': 'Male', 'last_name': 'Rodriguez', 'id': 5, 'first_name': 'Benjamin'}\n"
     ]
    }
   ],
   "source": [
    "results = session.query(Customer).limit(5)\n",
    "\n",
    "for row in results:\n",
    "    print(row.__dict__)"
   ]
  },
  {
   "cell_type": "code",
   "execution_count": null,
   "metadata": {
    "collapsed": true
   },
   "outputs": [],
   "source": []
  },
  {
   "cell_type": "code",
   "execution_count": null,
   "metadata": {
    "collapsed": true
   },
   "outputs": [],
   "source": []
  },
  {
   "cell_type": "code",
   "execution_count": null,
   "metadata": {
    "collapsed": true
   },
   "outputs": [],
   "source": []
  }
 ],
 "metadata": {
  "kernelspec": {
   "display_name": "Python 3",
   "language": "python",
   "name": "python3"
  },
  "language_info": {
   "codemirror_mode": {
    "name": "ipython",
    "version": 3
   },
   "file_extension": ".py",
   "mimetype": "text/x-python",
   "name": "python",
   "nbconvert_exporter": "python",
   "pygments_lexer": "ipython3",
   "version": "3.6.2"
  },
  "nteract": {
   "version": "0.2.0"
  }
 },
 "nbformat": 4,
 "nbformat_minor": 2
}
